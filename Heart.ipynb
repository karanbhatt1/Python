{
  "nbformat": 4,
  "nbformat_minor": 0,
  "metadata": {
    "colab": {
      "provenance": [],
      "collapsed_sections": [
        "0Iiy0BhHI7kl",
        "B0KVovzoCKdZ",
        "6DFXtdVlCRk2",
        "xhqX2HzgD7Ww",
        "tXO3jGNPIO75",
        "BKokOaTbzwX5",
        "fWayxsxc4Y8Q",
        "6rnsJtVyKuUl",
        "aS5r3P9nKlom",
        "tQ3Xs1LnMpsy"
      ],
      "authorship_tag": "ABX9TyNPrT45W1PApisL20Jq/cy0",
      "include_colab_link": true
    },
    "kernelspec": {
      "name": "python3",
      "display_name": "Python 3"
    },
    "language_info": {
      "name": "python"
    }
  },
  "cells": [
    {
      "cell_type": "markdown",
      "metadata": {
        "id": "view-in-github",
        "colab_type": "text"
      },
      "source": [
        "<a href=\"https://colab.research.google.com/github/karanbhatt1/Python/blob/main/Heart.ipynb\" target=\"_parent\"><img src=\"https://colab.research.google.com/assets/colab-badge.svg\" alt=\"Open In Colab\"/></a>"
      ]
    },
    {
      "cell_type": "markdown",
      "source": [
        "# **installing neccessary libraries**"
      ],
      "metadata": {
        "id": "0Iiy0BhHI7kl"
      }
    },
    {
      "cell_type": "code",
      "execution_count": null,
      "metadata": {
        "id": "wv-QvNHIAgu_"
      },
      "outputs": [],
      "source": [
        "#pip install pandas\n",
        "#!pip install numpy\n",
        "#!pip install matplotlib\n",
        "#!pip install seaborn"
      ]
    },
    {
      "cell_type": "markdown",
      "source": [
        "## **Importing Libraries**"
      ],
      "metadata": {
        "id": "B0KVovzoCKdZ"
      }
    },
    {
      "cell_type": "code",
      "source": [
        "import pandas as pd\n",
        "import numpy as np\n",
        "import matplotlib.pyplot as plt\n",
        "import seaborn as sns"
      ],
      "metadata": {
        "id": "H0IiXG3QApFB"
      },
      "execution_count": null,
      "outputs": []
    },
    {
      "cell_type": "markdown",
      "source": [
        "# **Importing csv**"
      ],
      "metadata": {
        "id": "6DFXtdVlCRk2"
      }
    },
    {
      "cell_type": "code",
      "source": [
        "csv = pd.read_csv('heart.csv')"
      ],
      "metadata": {
        "id": "HeEQqTpBBUqy"
      },
      "execution_count": null,
      "outputs": []
    },
    {
      "cell_type": "markdown",
      "source": [
        "# **Setting Dependent and Independent Variables from csv**"
      ],
      "metadata": {
        "id": "UXAKqbc_DVH9"
      }
    },
    {
      "cell_type": "code",
      "source": [
        "x=csv.iloc[:,:-1].values\n",
        "print(x)\n",
        "y=csv.iloc[:,-1].values\n",
        "print(y)"
      ],
      "metadata": {
        "id": "mDPP4WLdDOFK"
      },
      "execution_count": null,
      "outputs": []
    },
    {
      "cell_type": "markdown",
      "source": [
        "Machine Learning algorithm works on numeric values so we need to change the string to numerics which can be changed"
      ],
      "metadata": {
        "id": "zEVLFqpDDySP"
      }
    },
    {
      "cell_type": "markdown",
      "source": [
        "# **Data Preprocessing**"
      ],
      "metadata": {
        "id": "xhqX2HzgD7Ww"
      }
    },
    {
      "cell_type": "code",
      "source": [
        "from sklearn.preprocessing import LabelEncoder\n",
        "le1 = LabelEncoder()\n",
        "le2 = LabelEncoder()\n",
        "le6 = LabelEncoder()\n",
        "le8 = LabelEncoder()\n",
        "le10= LabelEncoder()\n",
        "x[:,1] = le1.fit_transform(x[:,1])\n",
        "x[:,2] = le2.fit_transform(x[:,2])\n",
        "x[:,6] = le6.fit_transform(x[:,6])\n",
        "x[:,8] = le8.fit_transform(x[:,8])\n",
        "x[:,10] = le10.fit_transform(x[:,10])"
      ],
      "metadata": {
        "id": "AjbPhyzjELid"
      },
      "execution_count": null,
      "outputs": []
    },
    {
      "cell_type": "code",
      "source": [
        "print(x)"
      ],
      "metadata": {
        "id": "o9ByUjPfGB5z"
      },
      "execution_count": null,
      "outputs": []
    },
    {
      "cell_type": "markdown",
      "source": [
        "# **Splitting Phase :**\n",
        "# Training set and Testing set"
      ],
      "metadata": {
        "id": "tXO3jGNPIO75"
      }
    },
    {
      "cell_type": "code",
      "source": [
        "from sklearn.model_selection import train_test_split\n",
        "x_train,x_test,y_train,y_test = train_test_split(x,y,test_size=0.3,random_state=0)"
      ],
      "metadata": {
        "id": "cJ3ctKSoIZ-C"
      },
      "execution_count": null,
      "outputs": []
    },
    {
      "cell_type": "code",
      "source": [
        "print(x_train)\n",
        "print(y_train)"
      ],
      "metadata": {
        "id": "dWckyaO-Irz2"
      },
      "execution_count": null,
      "outputs": []
    },
    {
      "cell_type": "markdown",
      "source": [
        "# **Feature Scanling**"
      ],
      "metadata": {
        "id": "BKokOaTbzwX5"
      }
    },
    {
      "cell_type": "code",
      "source": [
        "from sklearn.preprocessing import StandardScaler\n",
        "sc = StandardScaler()\n",
        "x_train = sc.fit_transform(x_train)\n",
        "x_test = sc.transform(x_test)"
      ],
      "metadata": {
        "id": "YzATzgrQ0pYp"
      },
      "execution_count": null,
      "outputs": []
    },
    {
      "cell_type": "code",
      "source": [
        "print(x_train)"
      ],
      "metadata": {
        "id": "jaJBdRH44Q1D"
      },
      "execution_count": null,
      "outputs": []
    },
    {
      "cell_type": "markdown",
      "source": [
        "# **Model Selection**"
      ],
      "metadata": {
        "id": "fWayxsxc4Y8Q"
      }
    },
    {
      "cell_type": "code",
      "source": [
        "#Logistic Regression\n",
        "from sklearn.linear_model import LogisticRegression\n",
        "model_logistic = LogisticRegression()\n",
        "model_logistic.fit(x_train,y_train)"
      ],
      "metadata": {
        "id": "oD8OZ7EY4YZU"
      },
      "execution_count": null,
      "outputs": []
    },
    {
      "cell_type": "code",
      "source": [
        "y_pred_logistic = model_logistic.predict(x_test)"
      ],
      "metadata": {
        "id": "IM1eeKgg5GwZ"
      },
      "execution_count": null,
      "outputs": []
    },
    {
      "cell_type": "markdown",
      "source": [
        "#**SVM(support vector machine)**"
      ],
      "metadata": {
        "id": "6rnsJtVyKuUl"
      }
    },
    {
      "cell_type": "code",
      "source": [
        "#SVM support vector machine\n",
        "from sklearn.svm import SVC\n",
        "model_svm = SVC()\n",
        "model_svm.fit(x_train,y_train)"
      ],
      "metadata": {
        "id": "ojuFv6Gv7a0Q"
      },
      "execution_count": null,
      "outputs": []
    },
    {
      "cell_type": "code",
      "source": [
        "y_pred_svm = model_svm.predict(x_test)"
      ],
      "metadata": {
        "id": "znGkmYHc8Jgl"
      },
      "execution_count": null,
      "outputs": []
    },
    {
      "cell_type": "markdown",
      "source": [
        "# **KNN algorithm:**"
      ],
      "metadata": {
        "id": "aS5r3P9nKlom"
      }
    },
    {
      "cell_type": "code",
      "source": [
        "#K Nearest Neighbour machine learning  classifier\n",
        "from sklearn.neighbors import KNeighborsClassifier\n",
        "model_knn = KNeighborsClassifier()\n",
        "model_knn.fit(x_train,y_train)"
      ],
      "metadata": {
        "id": "9Q1xPRb8KO6c"
      },
      "execution_count": null,
      "outputs": []
    },
    {
      "cell_type": "code",
      "source": [
        "y_pred_kNeighbour = model_knn.predict(x_test)"
      ],
      "metadata": {
        "id": "q7FOW00WLWdx"
      },
      "execution_count": null,
      "outputs": []
    },
    {
      "cell_type": "markdown",
      "source": [
        "#**Decision Tree Classifier**\n"
      ],
      "metadata": {
        "id": "tQ3Xs1LnMpsy"
      }
    },
    {
      "cell_type": "code",
      "source": [
        "from sklearn.tree import DecisionTreeClassifier\n",
        "model_tree = DecisionTreeClassifier()\n",
        "model_tree.fit(x_train,y_train)"
      ],
      "metadata": {
        "id": "EC808JLJMuRj"
      },
      "execution_count": null,
      "outputs": []
    },
    {
      "cell_type": "code",
      "source": [
        "y_pred_DecisionTree = model_tree.predict(x_test)"
      ],
      "metadata": {
        "id": "WxtyGogdNJbV"
      },
      "execution_count": null,
      "outputs": []
    },
    {
      "cell_type": "markdown",
      "source": [
        "#**Randomforest Classifier**"
      ],
      "metadata": {
        "id": "AjgteiXoN2mk"
      }
    },
    {
      "cell_type": "code",
      "source": [
        "from sklearn.ensemble import RandomForestClassifier\n",
        "model_forest = RandomForestClassifier(n_estimators=200)\n",
        "model_forest.fit(x_train,y_train)"
      ],
      "metadata": {
        "id": "rWPdm5L6N-Lg"
      },
      "execution_count": null,
      "outputs": []
    },
    {
      "cell_type": "code",
      "source": [
        "y_pred_Rf = model_forest.predict(x_test)"
      ],
      "metadata": {
        "id": "uhxk37FDORbg"
      },
      "execution_count": null,
      "outputs": []
    },
    {
      "cell_type": "markdown",
      "source": [
        "#**XGBoost**"
      ],
      "metadata": {
        "id": "YCoqR9u_PIz8"
      }
    },
    {
      "cell_type": "code",
      "source": [
        "from xgboost import XGBClassifier\n",
        "model_xgb = XGBClassifier()\n",
        "model_xgb.fit(x_train,y_train)"
      ],
      "metadata": {
        "id": "uxs2ce90PRgW"
      },
      "execution_count": null,
      "outputs": []
    },
    {
      "cell_type": "code",
      "source": [
        "y_pred_XG = model_xgb.predict(x_test)"
      ],
      "metadata": {
        "id": "POlG-LTVPfSI"
      },
      "execution_count": null,
      "outputs": []
    },
    {
      "cell_type": "markdown",
      "source": [
        "# **Testing Accuracy**"
      ],
      "metadata": {
        "id": "xGmntpbJ46cW"
      }
    },
    {
      "cell_type": "code",
      "source": [
        "from sklearn.metrics import accuracy_score\n",
        "Logistic_Acc = accuracy_score(y_test,y_pred_logistic)\n",
        "SVM_Acc = accuracy_score(y_test,y_pred_svm)\n"
      ],
      "metadata": {
        "id": "YkBespdCJTqt"
      },
      "execution_count": null,
      "outputs": []
    },
    {
      "cell_type": "code",
      "source": [
        "from sklearn.metrics import accuracy_score\n",
        "accuracy_score(y_test,y_pred_logistic)"
      ],
      "metadata": {
        "id": "J_Rz0b584_Tb"
      },
      "execution_count": null,
      "outputs": []
    },
    {
      "cell_type": "code",
      "source": [
        "from sklearn.metrics import accuracy_score\n",
        "knn_Acc = accuracy_score(y_test,y_pred_kNeighbour)"
      ],
      "metadata": {
        "id": "uHMk-PDOK_45"
      },
      "execution_count": null,
      "outputs": []
    },
    {
      "cell_type": "code",
      "source": [
        "decision_Acc = accuracy_score(y_test,y_pred_DecisionTree)"
      ],
      "metadata": {
        "id": "NJSf6hSkNjvZ"
      },
      "execution_count": null,
      "outputs": []
    },
    {
      "cell_type": "code",
      "source": [
        "random_Acc = accuracy_score(y_test,y_pred_Rf)"
      ],
      "metadata": {
        "id": "Y8jsZ1tbOZ7k"
      },
      "execution_count": null,
      "outputs": []
    },
    {
      "cell_type": "code",
      "source": [
        "xg_Acc = accuracy_score(y_test,y_pred_XG)"
      ],
      "metadata": {
        "id": "JFz3_tbOPm3X"
      },
      "execution_count": null,
      "outputs": []
    },
    {
      "cell_type": "code",
      "source": [
        "print(SVM_Acc)\n",
        "print(Logistic_Acc)\n",
        "print(knn_Acc)\n",
        "print(decision_Acc)\n",
        "print(random_Acc*100,\"%\") #highest accuracy from all the models.\n",
        "print(xg_Acc*100,\"%\")"
      ],
      "metadata": {
        "id": "35u_B9ADKAb7"
      },
      "execution_count": null,
      "outputs": []
    },
    {
      "cell_type": "markdown",
      "source": [
        "#**Ploting Graphs and accuracy of models**"
      ],
      "metadata": {
        "id": "-EuZmFWkQubL"
      }
    },
    {
      "cell_type": "code",
      "source": [
        "import matplotlib.pyplot as plt\n",
        "plt.figure(figsize=(10,5))\n",
        "plt.bar('Logistic Regression',Logistic_Acc,width=0.5)\n",
        "plt.bar('SVM',SVM_Acc,width=0.5)\n",
        "plt.bar('KNN',knn_Acc,width=0.5)\n",
        "plt.bar('Decision Tree',decision_Acc,width=0.5)\n",
        "plt.bar('Random Forest',random_Acc,width=0.5)\n",
        "plt.bar('XGBoost',xg_Acc,width=0.5)\n",
        "\n",
        "plt.xlabel('Machine Learning Algorithm')\n",
        "plt.ylabel('Accuracy')"
      ],
      "metadata": {
        "id": "0L2EB9UxQ1ik"
      },
      "execution_count": null,
      "outputs": []
    },
    {
      "cell_type": "markdown",
      "source": [
        "#**Single prediction**"
      ],
      "metadata": {
        "id": "KVkQZ9GJSpMn"
      }
    },
    {
      "cell_type": "code",
      "source": [
        "#Age = 50, Sex = 0 , ChestPainType=0 , RestingBP = 105\n",
        "#Cholesterol = 250, FastingBS=1,RestingECG =1\n",
        "#MaxHR=170,ExerciseAngina=(Y)1\n",
        "#Oldpeak= 1.9  , ST_Slope =(down)0  HeartDisease"
      ],
      "metadata": {
        "id": "aLMpOTRLSs7i"
      },
      "execution_count": null,
      "outputs": []
    },
    {
      "cell_type": "code",
      "source": [
        "result = model_forest.predict(sc.transform([[50,0,1,105,250,1,1,160,1,1.9,0]]))\n",
        "if result==0:\n",
        "  print(\"No Heart Disease\")\n",
        "else:\n",
        "  print(\"Heart Disease\")"
      ],
      "metadata": {
        "id": "X20aBGpFJrw_"
      },
      "execution_count": null,
      "outputs": []
    },
    {
      "cell_type": "code",
      "source": [],
      "metadata": {
        "id": "ofKBNL7FKMFz"
      },
      "execution_count": null,
      "outputs": []
    }
  ]
}